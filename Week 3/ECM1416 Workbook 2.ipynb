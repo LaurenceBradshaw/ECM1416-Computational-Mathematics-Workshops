{
 "cells": [
  {
   "cell_type": "markdown",
   "metadata": {},
   "source": [
    "# ECM1416: Computational Mathematics\n",
    "## Worksheet #2: Matrix inverse\n"
   ]
  },
  {
   "cell_type": "code",
   "execution_count": 1,
   "metadata": {
    "collapsed": true
   },
   "outputs": [],
   "source": [
    "# import the numpy package in the np namespace\n",
    "import numpy as np\n",
    "\n",
    "# this line will load the plotting function into the namespace plt.\n",
    "import matplotlib.pyplot as plt\n",
    "\n",
    "# the following lines prevent Python from opening new windows for figures. \n",
    "%matplotlib inline"
   ]
  },
  {
   "cell_type": "markdown",
   "metadata": {
    "collapsed": true
   },
   "source": [
    "### Linear algebra functions in numpy\n",
    "Many linear algebra functions in Numpy are stored in the <tt>numpy.linalg</tt> namespace: https://docs.scipy.org/doc/numpy/reference/routines.linalg.html\n",
    "\n",
    "For example, the determinant of a matrix can be calculated using <tt>numpy.linalg.det()</tt>, and the inverse using <tt>numpy.linalg.inv()</tt>"
   ]
  },
  {
   "cell_type": "markdown",
   "metadata": {},
   "source": [
    "## Exercises\n",
    "### Exercise 1: Determinant\n",
    "The aim of this exercise is to code a function implementing the Laplace formula for calculating the determinant. You are recommended to use subfunctions for calculating the minors and cofactors (you will need them later). \n",
    "Compare your function to Numpy's determinant function on a couple of matrices. \n"
   ]
  },
  {
   "cell_type": "code",
   "execution_count": 46,
   "metadata": {},
   "outputs": [
    {
     "name": "stdout",
     "output_type": "stream",
     "text": [
      "(3, 3)\n",
      "-28.0\n"
     ]
    }
   ],
   "source": [
    "def minors(matrix):\n",
    "    '''\n",
    "    Calculates the matrix of minors for the input matrix\n",
    "\n",
    "    Return:\n",
    "    A matrix of matrices where each sub matrix is the minor\n",
    "    '''\n",
    "    rows = matrix.shape[0]\n",
    "    cols = matrix.shape[1]\n",
    "    if rows == 1 and cols == 1:\n",
    "        return matrix[0, 0]\n",
    "    minor_matrix = np.zeros((rows, cols, rows-1, cols-1))\n",
    "    row_delta = 0\n",
    "    col_delta = 0\n",
    "    for i in range(rows):\n",
    "        for j in range(cols):\n",
    "            for k in range(rows):\n",
    "                if k > i:\n",
    "                    row_delta = -1\n",
    "                for l in range(cols):\n",
    "                    if l > j:\n",
    "                        col_delta = -1   \n",
    "                    if l != j and k != i: \n",
    "                        minor_matrix[i, j, k + row_delta, l + col_delta] = matrix[k, l]\n",
    "                \n",
    "                row_delta = 0\n",
    "                col_delta = 0\n",
    "                        \n",
    "    return minor_matrix\n",
    "\n",
    "\n",
    "def determinant(matrix):\n",
    "    '''\n",
    "    Calculates the determinant of the input matrix   \n",
    "\n",
    "    Returns:\n",
    "    The determinant value \n",
    "    '''\n",
    "    if matrix.shape == (2, 2):\n",
    "        ad = matrix[0, 0] * matrix[1, 1]\n",
    "        cb = matrix[0, 1] * matrix[1, 0]\n",
    "        return ad-cb\n",
    "\n",
    "    minor = minors(matrix)\n",
    "    det = 0\n",
    "    for i in range(matrix.shape[1]):\n",
    "        det += ((-1)**i)*determinant(minor[0, i])*matrix[0, i]\n",
    "\n",
    "    return det\n",
    "\n",
    "\n",
    "a = np.matrix([[1, 5, 7], \n",
    "               [11, -9, 1], \n",
    "               [2, -3, -1]])\n",
    "print(a.shape)\n",
    "b = minors(a)\n",
    "print(determinant(a))"
   ]
  },
  {
   "cell_type": "markdown",
   "metadata": {},
   "source": [
    "### Exercise 2: Inverse\n",
    "Build on the code you wrote for part one to provide the Cramer's rule solution to calculate the inverse of a matrix (as discussed in the lecture). Again compare your approach to numpy's results on some matrices. "
   ]
  },
  {
   "cell_type": "code",
   "execution_count": 54,
   "metadata": {},
   "outputs": [
    {
     "name": "stdout",
     "output_type": "stream",
     "text": [
      "[[-0.42857143  0.57142857 -2.42857143]\n",
      " [-0.46428571  0.53571429 -2.71428571]\n",
      " [ 0.53571429 -0.46428571  2.28571429]]\n",
      "[[ 1.00000000e+00  1.54638207e-15 -8.50113630e-15]\n",
      " [-9.43689571e-16  1.00000000e+00  4.44089210e-16]\n",
      " [-5.55111512e-17  5.55111512e-17  1.00000000e+00]]\n"
     ]
    }
   ],
   "source": [
    "def cofactors(matrix):\n",
    "    '''\n",
    "    Calculates the cofactors for the matrix\n",
    "\n",
    "    Returns:\n",
    "    Matrix containing the determinant of each minor with the correct sign\n",
    "    '''\n",
    "    minor_matrix = minors(matrix)\n",
    "    rows = minor_matrix.shape[0]\n",
    "    cols = minor_matrix.shape[1]\n",
    "    cofactor_matrix = np.asmatrix(np.zeros(matrix.shape))\n",
    "\n",
    "    for i in range(rows):\n",
    "        for j in range(cols):\n",
    "            cofactor_matrix[i, j] = ((-1)**(i+j))*determinant(minor_matrix[i, j])\n",
    "\n",
    "    return cofactor_matrix\n",
    "\n",
    "def transpose(matrix):\n",
    "    '''\n",
    "    Transposes the matrix\n",
    "\n",
    "    Returns:\n",
    "    The transpose of the input matrix\n",
    "    '''\n",
    "    rows = matrix.shape[0]\n",
    "    cols = matrix.shape[1]\n",
    "    transposed = np.asmatrix(np.zeros((cols, rows)))\n",
    "\n",
    "    for i in range(rows):\n",
    "        for j in range(cols):\n",
    "            transposed[j, i] = matrix[i, j]\n",
    "\n",
    "    return transposed\n",
    "\n",
    "\n",
    "def inverse(matrix):\n",
    "    '''\n",
    "    Calculates the inverse of the matrix\n",
    "\n",
    "    Returns:\n",
    "    The inverse matrix\n",
    "    '''\n",
    "    det = determinant(matrix)\n",
    "    if det == 0:\n",
    "        raise ValueError(\"determinant of input matrix is 0, no inverse exists\")\n",
    "    cofact = cofactors(matrix)\n",
    "    return (1/det)*transpose(cofact)\n",
    "\n",
    "c = inverse(a)\n",
    "print(c)\n",
    "print(inverse(c)*c)\n"
   ]
  },
  {
   "cell_type": "markdown",
   "metadata": {},
   "source": [
    "### Exercise 3: System of linear equations\n",
    "The aim of this exercise is to use the inverse to solve a system of linear equations. To this end, let's look at a small problem: \n",
    "1. On Monday, you went to the shop and bought 2 coffees, one tea and 5 donuts (generous of you) and paid 12 pounds. \n",
    "2. On Tuesday, you went again and bought 3 coffees and 6 donuts and pay 13.50. \n",
    "3. Finally on Wednesday, you bought 1 coffee, 1 tea and two donuts and pay 6.50. \n",
    "\n",
    "Question: what is the price of each of the items you bought this week? \n",
    "\n",
    "Model this as a system of linear equation and solve it using the inverse. "
   ]
  },
  {
   "cell_type": "code",
   "execution_count": 1,
   "metadata": {},
   "outputs": [
    {
     "ename": "NameError",
     "evalue": "name 'np' is not defined",
     "output_type": "error",
     "traceback": [
      "\u001b[1;31m---------------------------------------------------------------------------\u001b[0m",
      "\u001b[1;31mNameError\u001b[0m                                 Traceback (most recent call last)",
      "Cell \u001b[1;32mIn[1], line 1\u001b[0m\n\u001b[1;32m----> 1\u001b[0m system \u001b[39m=\u001b[39m np\u001b[39m.\u001b[39masmatrix([[\u001b[39m2\u001b[39m, \u001b[39m1\u001b[39m, \u001b[39m5\u001b[39m], \n\u001b[0;32m      2\u001b[0m                      [\u001b[39m3\u001b[39m, \u001b[39m0\u001b[39m, \u001b[39m6\u001b[39m],\n\u001b[0;32m      3\u001b[0m                      [\u001b[39m1\u001b[39m, \u001b[39m1\u001b[39m, \u001b[39m2\u001b[39m]])\n\u001b[0;32m      4\u001b[0m prices \u001b[39m=\u001b[39m np\u001b[39m.\u001b[39masmatrix([[\u001b[39m12\u001b[39m],\n\u001b[0;32m      5\u001b[0m                      [\u001b[39m13.5\u001b[39m],\n\u001b[0;32m      6\u001b[0m                      [\u001b[39m6.5\u001b[39m]])\n\u001b[0;32m      8\u001b[0m solutions \u001b[39m=\u001b[39m inverse(system)\u001b[39m*\u001b[39mprices\n",
      "\u001b[1;31mNameError\u001b[0m: name 'np' is not defined"
     ]
    }
   ],
   "source": [
    "system = np.asmatrix([[2, 1, 5], \n",
    "                     [3, 0, 6],\n",
    "                     [1, 1, 2]])\n",
    "prices = np.asmatrix([[12],\n",
    "                     [13.5],\n",
    "                     [6.5]])\n",
    "\n",
    "solutions = inverse(system)*prices\n",
    "\n",
    "print(f\"Price of a coffee: £{solutions[0, 0]}\")\n",
    "print(f\"Price of a tea: £{solutions[1, 0]}\")\n",
    "print(f\"Price of a donut: £{solutions[2, 0]}\")\n"
   ]
  }
 ],
 "metadata": {
  "anaconda-cloud": {},
  "kernelspec": {
   "display_name": "Python 3",
   "language": "python",
   "name": "python3"
  },
  "language_info": {
   "codemirror_mode": {
    "name": "ipython",
    "version": 3
   },
   "file_extension": ".py",
   "mimetype": "text/x-python",
   "name": "python",
   "nbconvert_exporter": "python",
   "pygments_lexer": "ipython3",
   "version": "3.10.10"
  },
  "vscode": {
   "interpreter": {
    "hash": "84f4c5be70f756563cacaad3c2975d75d149b6cc167a8920614273c0670ff61b"
   }
  }
 },
 "nbformat": 4,
 "nbformat_minor": 1
}
