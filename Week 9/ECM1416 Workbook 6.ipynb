{
 "cells": [
  {
   "cell_type": "markdown",
   "metadata": {},
   "source": [
    "# ECM1416: Computational Mathematics\n",
    "## Worksheet #6: Markov Chains"
   ]
  },
  {
   "cell_type": "code",
   "execution_count": 41,
   "metadata": {
    "collapsed": true
   },
   "outputs": [],
   "source": [
    "# import the numpy package in the np namespace\n",
    "import numpy as np\n",
    "\n",
    "# import the scipy.stats package in the stats namespace\n",
    "import scipy.stats as stats\n",
    "\n",
    "# import the random package\n",
    "import random\n",
    "\n",
    "# this line will load the plotting function into the namespace plt.\n",
    "import matplotlib.pyplot as plt\n",
    "\n",
    "# the following lines prevent Python from opening new windows for figures. \n",
    "%matplotlib inline"
   ]
  },
  {
   "cell_type": "markdown",
   "metadata": {},
   "source": [
    "## Exercise\n",
    "Simulate the behaviour of a random web user in the simple example of the PageRank algorithm (lecture slides of Markov Chains - Part II). The user surfs according to the given transition probablity matrix and starts at page 0. The program counts the number of times, $n_{i}$, that the user visits each page $i$. Dividing $n_{i}$ by the total number of moves, $m$, yields an estimate of the probability that a random user ends up on the page $i$, known as the page's rank.\n"
   ]
  },
  {
   "cell_type": "code",
   "execution_count": 42,
   "metadata": {},
   "outputs": [],
   "source": [
    "Q = np.array([\n",
    "    [0, 1, 0, 0, 0, 0],\n",
    "    [0.5, 0, 0.5, 0, 0],\n",
    "    [(1/3), (1/3), 0, 0, (1/3)],\n",
    "    [1, 0, 0, 0, 0],\n",
    "    [0, (1/3), (1/3), (1/3), 0]\n",
    "], dtype=object)\n",
    "\n",
    "iterations = 100000\n",
    "start_state = 0\n",
    "visited = np.array([0, 0, 0, 0, 0])\n"
   ]
  },
  {
   "cell_type": "code",
   "execution_count": 43,
   "metadata": {},
   "outputs": [],
   "source": [
    "def simulate_step(current_state):\n",
    "    prob = random.random()\n",
    "    current_state_probabilities = Q[current_state]\n",
    "\n",
    "    prob_sum = 0\n",
    "    for state, p in enumerate(current_state_probabilities):\n",
    "        prob_sum += p\n",
    "\n",
    "        if prob <= prob_sum:\n",
    "            visited[state] += 1\n",
    "            return state"
   ]
  },
  {
   "cell_type": "code",
   "execution_count": 44,
   "metadata": {},
   "outputs": [
    {
     "name": "stdout",
     "output_type": "stream",
     "text": [
      "[0.29375 0.38947 0.21897 0.02437 0.07344]\n"
     ]
    }
   ],
   "source": [
    "\n",
    "for i in range(iterations):\n",
    "    start_state = simulate_step(start_state)\n",
    "\n",
    "print(visited/iterations)"
   ]
  }
 ],
 "metadata": {
  "celltoolbar": "Raw Cell Format",
  "kernelspec": {
   "display_name": "Python 3",
   "language": "python",
   "name": "python3"
  },
  "language_info": {
   "codemirror_mode": {
    "name": "ipython",
    "version": 3
   },
   "file_extension": ".py",
   "mimetype": "text/x-python",
   "name": "python",
   "nbconvert_exporter": "python",
   "pygments_lexer": "ipython3",
   "version": "3.10.10"
  }
 },
 "nbformat": 4,
 "nbformat_minor": 2
}
