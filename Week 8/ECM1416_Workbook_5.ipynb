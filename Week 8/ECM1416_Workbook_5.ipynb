{
  "nbformat": 4,
  "nbformat_minor": 0,
  "metadata": {
    "celltoolbar": "Raw Cell Format",
    "kernelspec": {
      "display_name": "Python 3",
      "language": "python",
      "name": "python3"
    },
    "language_info": {
      "codemirror_mode": {
        "name": "ipython",
        "version": 3
      },
      "file_extension": ".py",
      "mimetype": "text/x-python",
      "name": "python",
      "nbconvert_exporter": "python",
      "pygments_lexer": "ipython3",
      "version": "3.7.6"
    },
    "colab": {
      "name": "ECM1416 Workbook 5.ipynb",
      "provenance": [],
      "collapsed_sections": []
    }
  },
  "cells": [
    {
      "cell_type": "markdown",
      "metadata": {
        "id": "e-5eyEXHMU2w"
      },
      "source": [
        "# ECM1416: Computational Mathematics\n",
        "## Worksheet #5: Probability"
      ]
    },
    {
      "cell_type": "code",
      "metadata": {
        "collapsed": true,
        "jupyter": {
          "outputs_hidden": true
        },
        "id": "KhKt7ih0MU23"
      },
      "source": [
        "# import the numpy package in the np namespace\n",
        "import numpy as np\n",
        "\n",
        "# import the scipy.stats package in the stats namespace\n",
        "import scipy.stats as stats\n",
        "\n",
        "# import the random package\n",
        "import random\n",
        "\n",
        "# this line will load the plotting function into the namespace plt.\n",
        "import matplotlib.pyplot as plt\n",
        "\n",
        "# the following lines prevent Python from opening new windows for figures. \n",
        "%matplotlib inline\n",
        "\n",
        "# A binomial discrete random variable.\n",
        "from scipy.stats import binom\n"
      ],
      "execution_count": null,
      "outputs": []
    },
    {
      "cell_type": "markdown",
      "metadata": {
        "id": "0AKTVXANMU25"
      },
      "source": [
        "## Exercise 1\n",
        "Alice proposes the following gambling game to Tom. \n",
        "\n",
        "•\tYou will toss a coin 10 times and count the number of heads \n",
        "\n",
        "•\tThe amount you win or lose on $k$ heads is given by $k^2 – 5*k$ (e.g., if $k = 4$, the payoff is 16 – 20 = – 4, that means you lose £4)\n",
        "\n",
        "Suppose that Tom is a rational player who will only accept the gambling proposal if on average he will win more than he’ll lose over a large number of bets.\n",
        "\n",
        "(1)\tMake an exact computation to decide if this is a good bet for Tom. \n",
        "\n",
        "(2)\tWrite a program to simulate a large number of bets to verify your computation results in (1)\n",
        "\n",
        "(3)\tIf the payoff function is $k^2 – 6*k$, decide for Tom again.\n",
        "\n",
        "(Hint: In the exact computation, use the equations for Binomial distribution. In the simulation, use the method random() to simulate the toss of coin.) \n"
      ]
    },
    {
      "cell_type": "code",
      "metadata": {
        "collapsed": true,
        "jupyter": {
          "outputs_hidden": true
        },
        "id": "u2KmphD_MU27"
      },
      "source": [
        ""
      ],
      "execution_count": null,
      "outputs": []
    },
    {
      "cell_type": "code",
      "metadata": {
        "collapsed": true,
        "jupyter": {
          "outputs_hidden": true
        },
        "id": "yo2z5H_PMU28"
      },
      "source": [
        ""
      ],
      "execution_count": null,
      "outputs": []
    },
    {
      "cell_type": "markdown",
      "metadata": {
        "id": "NJTHaxOwMU29"
      },
      "source": [
        "## Exercise 2\n",
        "A normal distribution is defined by its center (mean) and spread (standard deviation). The bulk of the observations generated from a normal distribution lie near the mean, which lies at the exact center of the distribution: as a rule of thumb, about 68% of the data lies within 1 standard deviation of the mean, 95% lies within 2 standard deviations and 99.7% lies within 3 standard deviations.\n",
        "\n",
        "The normal distribution is perhaps the most important distribution in all of statistics. It turns out that many real world phenomena follow a normal distribution, so it is often used to model random variables. Many common statistical tests assume distributions are normal.\n",
        "\n",
        "The scipy nickname for the normal distribution is norm. Its reference guide can be found at the link below: https://docs.scipy.org/doc/scipy/reference/generated/scipy.stats.norm.html\n",
        "\n",
        "Consider a random variable following a normal distribution with mean 0 and standard deviation 1,\n",
        "\n",
        "1) print out the probablities that the random variable is below -1, above 1 and lies between -1 and 1, respectively. See whether it agrees with the 68, 95, 99.7 rule.\n",
        "\n",
        "2) Plot the probability density function (pdf) of the normal distribution, use red color to fill the area between -1 and 1, and blue color to fill the other areas. Hint: use \"plt.fill_between\"."
      ]
    },
    {
      "cell_type": "code",
      "metadata": {
        "id": "puzc6fKDMU2-"
      },
      "source": [
        ""
      ],
      "execution_count": null,
      "outputs": []
    }
  ]
}