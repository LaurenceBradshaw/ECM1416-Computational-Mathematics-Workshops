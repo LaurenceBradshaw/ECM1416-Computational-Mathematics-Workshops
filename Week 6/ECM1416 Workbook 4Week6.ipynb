{
 "cells": [
  {
   "cell_type": "markdown",
   "metadata": {},
   "source": [
    "# ECM1416: Computational Mathematics\n",
    "## Worksheet #4: Probability"
   ]
  },
  {
   "cell_type": "code",
   "execution_count": 2,
   "metadata": {
    "collapsed": true
   },
   "outputs": [],
   "source": [
    "# import the numpy package in the np namespace\n",
    "import numpy as np\n",
    "\n",
    "# import the random package\n",
    "import random\n",
    "\n",
    "# this line will load the plotting function into the namespace plt.\n",
    "import matplotlib.pyplot as plt\n",
    "\n",
    "# the following lines prevent Python from opening new windows for figures. \n",
    "%matplotlib inline"
   ]
  },
  {
   "cell_type": "markdown",
   "metadata": {},
   "source": [
    "## Exercise\n",
    "Suppose that people enter an empty room one by one until there are $n$ people in the room. What\n",
    "is the probability that at least 2 of them share a birthday? Assume birthdays are uniform\n",
    "distributed random integers between 0 and 364.\n",
    "\n",
    "1) Make an exact computation to work out the probability for various $n$.\n",
    "\n",
    "2) Write a program to simulate the experiment many times and estimate the probability for\n",
    "various $n$, see that it approximates your results from exact computation. \n",
    "\n",
    "3) Find the smallest value of n for which the probability of a match is greater than 0.5.\n",
    "\n",
    "4) Explore how the number of trials in the simulation affects the variability of the estimates.\n",
    "\n",
    "5) Suppose that people enter an empty room until a pair of people share a birthday. On average,\n",
    "how many people will have to enter before there is a match? Write a program to simulate the\n",
    "experiment many times and estimate the average value."
   ]
  },
  {
   "cell_type": "code",
   "execution_count": null,
   "metadata": {
    "collapsed": true
   },
   "outputs": [],
   "source": []
  }
 ],
 "metadata": {
  "celltoolbar": "Raw Cell Format",
  "kernelspec": {
   "display_name": "Python 3",
   "language": "python",
   "name": "python3"
  },
  "language_info": {
   "codemirror_mode": {
    "name": "ipython",
    "version": 3
   },
   "file_extension": ".py",
   "mimetype": "text/x-python",
   "name": "python",
   "nbconvert_exporter": "python",
   "pygments_lexer": "ipython3",
   "version": "3.6.0"
  }
 },
 "nbformat": 4,
 "nbformat_minor": 2
}
